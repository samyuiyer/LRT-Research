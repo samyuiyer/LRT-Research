{
  "cells": [
    {
      "cell_type": "markdown",
      "metadata": {
        "id": "JPWVmAMr63FK"
      },
      "source": [
        "***\n",
        "\n",
        "*Course:* [Math 535](https://people.math.wisc.edu/~roch/mmids/) - Mathematical Methods in Data Science (MMiDS) - Fall 2022\n",
        "\n",
        "*Name:* Samyu Iyer \n",
        "\n",
        "***\n",
        "\n",
        "# HWK 5"
      ]
    },
    {
      "cell_type": "markdown",
      "metadata": {
        "id": "WPxvhTJr63FQ"
      },
      "source": [
        "**Instructions:**\n",
        "\n",
        "1. Open the notebook in [Google Colab](https://colab.research.google.com/).\n",
        "\n",
        "2. Download the required dataset from Canvas.\n",
        "\n",
        "3. In the Jupyter notebook, write your name above and do the exercises below.\n",
        "\n",
        "4. Run every cell.\n",
        "\n",
        "5. In the File menu, print and \"Save as PDF\". Before this step, make sure to \"Restart & Run All\" in the \"Runtime\" menu. The cell outputs should be numbered in order. \n",
        "\n",
        "6. Due date and instructions to submit your PDF will be given on Canvas."
      ]
    },
    {
      "cell_type": "code",
      "execution_count": 98,
      "metadata": {
        "id": "TLPfYDRx63FR"
      },
      "outputs": [],
      "source": [
        "import pandas as pd\n",
        "import numpy as np\n",
        "from numpy import linalg as LA\n",
        "from numpy.random import default_rng\n",
        "import matplotlib.pyplot as plt\n",
        "\n",
        "rng = default_rng(535)\n",
        "\n",
        "def mmids_backsubs(U,b):\n",
        "    m = b.shape[0]\n",
        "    x = np.zeros(m)\n",
        "    for i in reversed(range(m)):\n",
        "        x[i] = (b[i] - np.dot(U[i,i+1:m],x[i+1:m]))/U[i,i]\n",
        "    return x\n",
        "\n",
        "def mmids_forwardsubs(L,b):\n",
        "    m = b.shape[0]\n",
        "    x = np.zeros(m)\n",
        "    for i in range(m):\n",
        "        x[i] = (b[i] - np.dot(L[i,0:i],x[0:i]))/L[i,i]\n",
        "    return x\n",
        "\n",
        "def mmids_cholesky(B):\n",
        "    n = B.shape[0] # number of rows\n",
        "    L = np.zeros((n, n)) # initiallization of L\n",
        "    for j in range(n):\n",
        "        L[j,0:j] = mmids_forwardsubs(L[0:j,0:j],B[j,0:j])\n",
        "        L[j,j] = np.sqrt(B[j,j] - LA.norm(L[j,0:j])**2)\n",
        "    return L \n",
        "\n",
        "def ols_by_chol(A, y):\n",
        "    L = mmids_cholesky(A.T @ A)\n",
        "    z = mmids_forwardsubs(L, A.T @ y)\n",
        "    return mmids_backsubs(L.T, z)"
      ]
    },
    {
      "cell_type": "code",
      "execution_count": 99,
      "metadata": {
        "colab": {
          "base_uri": "https://localhost:8080/",
          "height": 90
        },
        "id": "6qyL06oa63FT",
        "outputId": "1a5d081a-e8ac-491f-bb82-fe81c8f02e7f"
      },
      "outputs": [
        {
          "output_type": "display_data",
          "data": {
            "text/plain": [
              "<IPython.core.display.HTML object>"
            ],
            "text/html": [
              "\n",
              "     <input type=\"file\" id=\"files-eebe5c90-5070-4184-bd65-97ed87ff4cfa\" name=\"files[]\" multiple disabled\n",
              "        style=\"border:none\" />\n",
              "     <output id=\"result-eebe5c90-5070-4184-bd65-97ed87ff4cfa\">\n",
              "      Upload widget is only available when the cell has been executed in the\n",
              "      current browser session. Please rerun this cell to enable.\n",
              "      </output>\n",
              "      <script>// Copyright 2017 Google LLC\n",
              "//\n",
              "// Licensed under the Apache License, Version 2.0 (the \"License\");\n",
              "// you may not use this file except in compliance with the License.\n",
              "// You may obtain a copy of the License at\n",
              "//\n",
              "//      http://www.apache.org/licenses/LICENSE-2.0\n",
              "//\n",
              "// Unless required by applicable law or agreed to in writing, software\n",
              "// distributed under the License is distributed on an \"AS IS\" BASIS,\n",
              "// WITHOUT WARRANTIES OR CONDITIONS OF ANY KIND, either express or implied.\n",
              "// See the License for the specific language governing permissions and\n",
              "// limitations under the License.\n",
              "\n",
              "/**\n",
              " * @fileoverview Helpers for google.colab Python module.\n",
              " */\n",
              "(function(scope) {\n",
              "function span(text, styleAttributes = {}) {\n",
              "  const element = document.createElement('span');\n",
              "  element.textContent = text;\n",
              "  for (const key of Object.keys(styleAttributes)) {\n",
              "    element.style[key] = styleAttributes[key];\n",
              "  }\n",
              "  return element;\n",
              "}\n",
              "\n",
              "// Max number of bytes which will be uploaded at a time.\n",
              "const MAX_PAYLOAD_SIZE = 100 * 1024;\n",
              "\n",
              "function _uploadFiles(inputId, outputId) {\n",
              "  const steps = uploadFilesStep(inputId, outputId);\n",
              "  const outputElement = document.getElementById(outputId);\n",
              "  // Cache steps on the outputElement to make it available for the next call\n",
              "  // to uploadFilesContinue from Python.\n",
              "  outputElement.steps = steps;\n",
              "\n",
              "  return _uploadFilesContinue(outputId);\n",
              "}\n",
              "\n",
              "// This is roughly an async generator (not supported in the browser yet),\n",
              "// where there are multiple asynchronous steps and the Python side is going\n",
              "// to poll for completion of each step.\n",
              "// This uses a Promise to block the python side on completion of each step,\n",
              "// then passes the result of the previous step as the input to the next step.\n",
              "function _uploadFilesContinue(outputId) {\n",
              "  const outputElement = document.getElementById(outputId);\n",
              "  const steps = outputElement.steps;\n",
              "\n",
              "  const next = steps.next(outputElement.lastPromiseValue);\n",
              "  return Promise.resolve(next.value.promise).then((value) => {\n",
              "    // Cache the last promise value to make it available to the next\n",
              "    // step of the generator.\n",
              "    outputElement.lastPromiseValue = value;\n",
              "    return next.value.response;\n",
              "  });\n",
              "}\n",
              "\n",
              "/**\n",
              " * Generator function which is called between each async step of the upload\n",
              " * process.\n",
              " * @param {string} inputId Element ID of the input file picker element.\n",
              " * @param {string} outputId Element ID of the output display.\n",
              " * @return {!Iterable<!Object>} Iterable of next steps.\n",
              " */\n",
              "function* uploadFilesStep(inputId, outputId) {\n",
              "  const inputElement = document.getElementById(inputId);\n",
              "  inputElement.disabled = false;\n",
              "\n",
              "  const outputElement = document.getElementById(outputId);\n",
              "  outputElement.innerHTML = '';\n",
              "\n",
              "  const pickedPromise = new Promise((resolve) => {\n",
              "    inputElement.addEventListener('change', (e) => {\n",
              "      resolve(e.target.files);\n",
              "    });\n",
              "  });\n",
              "\n",
              "  const cancel = document.createElement('button');\n",
              "  inputElement.parentElement.appendChild(cancel);\n",
              "  cancel.textContent = 'Cancel upload';\n",
              "  const cancelPromise = new Promise((resolve) => {\n",
              "    cancel.onclick = () => {\n",
              "      resolve(null);\n",
              "    };\n",
              "  });\n",
              "\n",
              "  // Wait for the user to pick the files.\n",
              "  const files = yield {\n",
              "    promise: Promise.race([pickedPromise, cancelPromise]),\n",
              "    response: {\n",
              "      action: 'starting',\n",
              "    }\n",
              "  };\n",
              "\n",
              "  cancel.remove();\n",
              "\n",
              "  // Disable the input element since further picks are not allowed.\n",
              "  inputElement.disabled = true;\n",
              "\n",
              "  if (!files) {\n",
              "    return {\n",
              "      response: {\n",
              "        action: 'complete',\n",
              "      }\n",
              "    };\n",
              "  }\n",
              "\n",
              "  for (const file of files) {\n",
              "    const li = document.createElement('li');\n",
              "    li.append(span(file.name, {fontWeight: 'bold'}));\n",
              "    li.append(span(\n",
              "        `(${file.type || 'n/a'}) - ${file.size} bytes, ` +\n",
              "        `last modified: ${\n",
              "            file.lastModifiedDate ? file.lastModifiedDate.toLocaleDateString() :\n",
              "                                    'n/a'} - `));\n",
              "    const percent = span('0% done');\n",
              "    li.appendChild(percent);\n",
              "\n",
              "    outputElement.appendChild(li);\n",
              "\n",
              "    const fileDataPromise = new Promise((resolve) => {\n",
              "      const reader = new FileReader();\n",
              "      reader.onload = (e) => {\n",
              "        resolve(e.target.result);\n",
              "      };\n",
              "      reader.readAsArrayBuffer(file);\n",
              "    });\n",
              "    // Wait for the data to be ready.\n",
              "    let fileData = yield {\n",
              "      promise: fileDataPromise,\n",
              "      response: {\n",
              "        action: 'continue',\n",
              "      }\n",
              "    };\n",
              "\n",
              "    // Use a chunked sending to avoid message size limits. See b/62115660.\n",
              "    let position = 0;\n",
              "    do {\n",
              "      const length = Math.min(fileData.byteLength - position, MAX_PAYLOAD_SIZE);\n",
              "      const chunk = new Uint8Array(fileData, position, length);\n",
              "      position += length;\n",
              "\n",
              "      const base64 = btoa(String.fromCharCode.apply(null, chunk));\n",
              "      yield {\n",
              "        response: {\n",
              "          action: 'append',\n",
              "          file: file.name,\n",
              "          data: base64,\n",
              "        },\n",
              "      };\n",
              "\n",
              "      let percentDone = fileData.byteLength === 0 ?\n",
              "          100 :\n",
              "          Math.round((position / fileData.byteLength) * 100);\n",
              "      percent.textContent = `${percentDone}% done`;\n",
              "\n",
              "    } while (position < fileData.byteLength);\n",
              "  }\n",
              "\n",
              "  // All done.\n",
              "  yield {\n",
              "    response: {\n",
              "      action: 'complete',\n",
              "    }\n",
              "  };\n",
              "}\n",
              "\n",
              "scope.google = scope.google || {};\n",
              "scope.google.colab = scope.google.colab || {};\n",
              "scope.google.colab._files = {\n",
              "  _uploadFiles,\n",
              "  _uploadFilesContinue,\n",
              "};\n",
              "})(self);\n",
              "</script> "
            ]
          },
          "metadata": {}
        },
        {
          "output_type": "stream",
          "name": "stdout",
          "text": [
            "Saving hwk5-f22-data.csv to hwk5-f22-data (2).csv\n",
            "User uploaded file \"hwk5-f22-data.csv\" with length 55910 bytes\n"
          ]
        }
      ],
      "source": [
        "# IF RUNNING ON GOOGLE COLAB\n",
        "# When prompted, upload: \n",
        "#     * chwk2-data.csv \n",
        "# from your local file system\n",
        "# Data source: https://www.math.wisc.edu/~roch/mmids/\n",
        "# Alternative instructions: https://colab.research.google.com/notebooks/io.ipynb\n",
        "\n",
        "from google.colab import files\n",
        "\n",
        "uploaded = files.upload()\n",
        "\n",
        "for fn in uploaded.keys():\n",
        "    print('User uploaded file \"{name}\" with length {length} bytes'.format(\n",
        "      name=fn, length=len(uploaded[fn])))"
      ]
    },
    {
      "cell_type": "markdown",
      "metadata": {
        "id": "ERhEAaam63FU"
      },
      "source": [
        "**Background** The goal of this assignment is to develop an important practical variant of the least squares problem. Recall that in the basic approach to linear regression, also known as ordinary least squares, we seek an affine function to fit data points $\\{(\\mathbf{x}_i, y_i)\\}_{i=1}^n$, where $\\mathbf{x}_i \\in \\mathbb{R}^d$ are the predictor variables of the $i$-th sample and $y_i \\in \\mathbb{R}$ is the corresponding response. More precisely, we want coefficients $\\beta_j$'s that minimize the objective function\n",
        "\n",
        "$$\n",
        "\\sum_{i=1}^n \\left(y_i - \\left\\{\\beta_0 + \\sum_{j=1}^d \\beta_j x_{i,j}\\right\\}\\right)^2.\n",
        "$$"
      ]
    },
    {
      "cell_type": "markdown",
      "metadata": {
        "id": "2o505ESr63FU"
      },
      "source": [
        "Under the matrix form of the problem:\n",
        "\n",
        "(a) we construct\n",
        "\n",
        "$$\n",
        "\\mathbf{y} = \n",
        "\\begin{pmatrix}\n",
        "y_1 \\\\\n",
        "y_2 \\\\\n",
        "\\vdots \\\\\n",
        "y_n\n",
        "\\end{pmatrix},\n",
        "\\quad\\quad\n",
        "A =\n",
        "\\begin{pmatrix}\n",
        "1 & \\mathbf{x}_1^T \\\\\n",
        "1 & \\mathbf{x}_2^T \\\\\n",
        "\\vdots & \\vdots \\\\\n",
        "1 & \\mathbf{x}_n^T\n",
        "\\end{pmatrix}\n",
        "\\quad\\text{and}\\quad\n",
        "\\boldsymbol{\\beta} = \n",
        "\\begin{pmatrix}\n",
        "\\beta_0 \\\\\n",
        "\\beta_1 \\\\\n",
        "\\vdots \\\\\n",
        "\\beta_d\n",
        "\\end{pmatrix}, \\qquad (*)\n",
        "$$\n",
        "\n",
        "which leads to the reformulation\n",
        "\n",
        "$$\n",
        "\\min_{\\boldsymbol{\\beta}} \n",
        "\\|\\mathbf{y} \n",
        "- A \\boldsymbol{\\beta}\\|^2;\n",
        "$$\n",
        "\n",
        "(b) we then consider the normal equations\n",
        "\n",
        "$$\n",
        "A^T A \\boldsymbol{\\beta}^* = A^T \\mathbf{y}\n",
        "$$\n",
        "\n",
        "which can be solved using a Cholesky decomposition $A^T A = L L^T$, where $L$ is lower-triangular with positive entries on the diagonal. The function `ols_by_chol` above implements this approach."
      ]
    },
    {
      "cell_type": "markdown",
      "metadata": {
        "id": "PR3hQNqX63FV"
      },
      "source": [
        "In ordinary least squares, all data points are weighted equally in the objective function\n",
        "\n",
        "$$\n",
        "\\sum_{i=1}^n \\left(y_i - \\left\\{\\beta_0 + \\sum_{j=1}^d \\beta_j x_{i,j}\\right\\}\\right)^2.\n",
        "$$\n",
        "\n",
        "In weighted least squares, which we develop here, one is also given positive weights $w_i \\in \\mathbb{R}_+$ for each data point $i = 1,\\ldots, n$, and we seek a solution to\n",
        "\n",
        "$$\n",
        "\\sum_{i=1}^n w_i \\left(y_i - \\left\\{\\beta_0 + \\sum_{j=1}^d \\beta_j x_{i,j}\\right\\}\\right)^2.\n",
        "$$\n",
        "\n",
        "Why might we want to do this? One key consideration is that different data points may come with different degrees of imprecision. And we may be interested in weighing more heavily those data points that are more reliable.\n",
        "\n",
        "For instance, have a look at the simulated dataset below. Here the standard deviation of the noise, `std`, is a quadratic function of the predictor variable, `x`. This is known as [heteroscedasticity](https://en.wikipedia.org/wiki/Heteroscedasticity). For predictor values in the neighborhood of 4, the response is very close to linear, with little noise obfuscating the signal. Away from that region, however, the data appears to be significantly more noisy and one can barely detect a functional relationship.    "
      ]
    },
    {
      "cell_type": "code",
      "execution_count": 101,
      "metadata": {
        "scrolled": true,
        "colab": {
          "base_uri": "https://localhost:8080/",
          "height": 265
        },
        "id": "AorgC0yr63FW",
        "outputId": "3fad20e5-d925-4811-eb3a-cf564834fb4f"
      },
      "outputs": [
        {
          "output_type": "display_data",
          "data": {
            "text/plain": [
              "<Figure size 432x288 with 1 Axes>"
            ],
            "image/png": "[encoded data removed]"
          },
          "metadata": {
            "needs_background": "light"
          }
        }
      ],
      "source": [
        "n, b0, b1 = 100, 10, -2\n",
        "x = np.linspace(0,10,num=n)\n",
        "std = 1 + (x - 4)**2\n",
        "y = b0 + b1 * x + std * rng.normal(0,1,n)\n",
        "plt.scatter(x,y,alpha=0.5)\n",
        "plt.show()"
      ]
    },
    {
      "cell_type": "markdown",
      "metadata": {
        "id": "a83o1FJz63FX"
      },
      "source": [
        "**PART A: Weighted least squares solution** We will come back below to how we might set the weights $w_i$ in a principled manner. For now, we solve the weighted least squares problem by recasting it in the ordinary version. To do this, we perform a change of variables. Observe that the weighted least squares objective can be re-written as\n",
        "\n",
        "$$\n",
        "\\sum_{i=1}^n w_i \\left(y_i - \\left\\{\\beta_0 + \\sum_{j=1}^d \\beta_j x_{i,j}\\right\\}\\right)^2\n",
        "= \\sum_{i=1}^n \\left(\\sqrt{w_i} y_i - \\left\\{\\beta_0 \\sqrt{w_i} + \\sum_{j=1}^d  \\beta_j \\sqrt{w_i} x_{i,j}\\right\\}\\right)^2.\n",
        "$$\n",
        "\n",
        "The right-hand side can be interpreted as an ordinary least squares problem with the transformed predictors and responses\n",
        "\n",
        "$$\n",
        "\\tilde{\\mathbf{y}} = \n",
        "\\begin{pmatrix}\n",
        "\\sqrt{w_1} y_1 \\\\\n",
        "\\sqrt{w_2} y_2 \\\\\n",
        "\\vdots \\\\\n",
        "\\sqrt{w_n} y_n\n",
        "\\end{pmatrix},\n",
        "\\quad\\quad\n",
        "\\widetilde{A} =\n",
        "\\begin{pmatrix}\n",
        "\\sqrt{w_1} & \\sqrt{w_1} \\mathbf{x}_1^T \\\\\n",
        "\\sqrt{w_2} & \\sqrt{w_2} \\mathbf{x}_2^T \\\\\n",
        "\\vdots & \\vdots \\\\\n",
        "\\sqrt{w_n} & \\sqrt{w_n} \\mathbf{x}_n^T.\n",
        "\\end{pmatrix}\n",
        "$$"
      ]
    },
    {
      "cell_type": "markdown",
      "metadata": {
        "id": "uzvkRrPJ63FY"
      },
      "source": [
        "Define $W^{1/2}$ as the diagonal matrix with entries $\\sqrt{w_i}$, $i=1,\\ldots,n$, on its diagonal. Then we get that $\\tilde{\\mathbf{y}} = W^{1/2} \\mathbf{y}$ and $\\widetilde{A} = W^{1/2} A$. Hence the normal equations read\n",
        "\n",
        "$$\n",
        "\\widetilde{A}^T \\widetilde{A} \\boldsymbol{\\beta}^* \n",
        "= \\widetilde{A}^T \\tilde{\\mathbf{y}},\n",
        "$$\n",
        "\n",
        "which can be re-written as\n",
        "\n",
        "$$\n",
        "A^T W^{1/2} W^{1/2} A \\boldsymbol{\\beta}^* \n",
        "= A^T W^{1/2} W^{1/2} \\mathbf{y},\n",
        "$$\n",
        "\n",
        "where we used that the transpose of a diagonal matrix is itself. Define $W$ as the diagonal matrix with entries $w_i$, $i=1,\\ldots,n$, on its diagonal, and note that $W = W^{1/2} W^{1/2}$. Therefore, we finally get\n",
        "\n",
        "$$\n",
        "A^T W A \\boldsymbol{\\beta}^* \n",
        "= A^T W \\mathbf{y},\n",
        "$$\n",
        "\n",
        "which we refer to as the weighted normal equations. How do we solve them?"
      ]
    },
    {
      "cell_type": "markdown",
      "metadata": {
        "id": "-HisrGM363FZ"
      },
      "source": [
        "We use four steps. Let \n",
        "\n",
        "$$\n",
        "C = A^T W A. \\qquad (\\text{Step I})\n",
        "$$\n",
        "\n",
        "When $A$ has linearly independent columns and the weights $w_i$ are strictly positive, it can be shown that the matrix $C$ is positive definite. Hence it has a Cholesky decomposition \n",
        "\n",
        "$$\n",
        "C = M M^T, \\qquad (\\text{Step II})\n",
        "$$\n",
        "\n",
        "where $M$ is lower-triangular. And we can solve the weighted normal equations $M M^T \\boldsymbol{\\beta}^* = A^T W \\mathbf{y}$ by forward substitution\n",
        "\n",
        "$$\n",
        "M \\mathbf{z} = A^T W \\mathbf{y}, \\qquad (\\text{Step III})\n",
        "$$\n",
        "\n",
        "followed by back-substitution\n",
        "\n",
        "$$\n",
        "M^T \\boldsymbol{\\beta}^* = \\mathbf{z}, \\qquad (\\text{Step IV})\n",
        "$$\n",
        "\n",
        "similarly to what we did in the ordinary case."
      ]
    },
    {
      "cell_type": "markdown",
      "metadata": {
        "id": "35MfN4bk63FZ"
      },
      "source": [
        "**Question 1:** First use *ordinary least squares (OLS)* to fit the simulated dataset above. Construct the matrix $A$ as in $(*)$. (Do not forget the column of $1$'s for the constant term.) Then use `ols_by_chol` to obtain the coefficients."
      ]
    },
    {
      "cell_type": "code",
      "execution_count": 102,
      "metadata": {
        "id": "fU60OkJ_63Fa"
      },
      "outputs": [],
      "source": [
        "#A = #EDIT: Construct matrix A as in (*)\n",
        "ones_col = np.ones((len(x), 1)).reshape(100,1)\n",
        "A = np.hstack([ones_col, x.reshape(100,1)])"
      ]
    },
    {
      "cell_type": "code",
      "execution_count": 103,
      "metadata": {
        "colab": {
          "base_uri": "https://localhost:8080/"
        },
        "id": "7doObe2z63Fa",
        "outputId": "943f684b-9265-46ac-9971-849c96022c83"
      },
      "outputs": [
        {
          "output_type": "stream",
          "name": "stdout",
          "text": [
            "[ 8.37620144 -1.58990636]\n"
          ]
        }
      ],
      "source": [
        "coeff_ols = ols_by_chol(A, y)\n",
        "#EDIT: Use ols_by_chol to compute coefficients\n",
        "print(coeff_ols)"
      ]
    },
    {
      "cell_type": "code",
      "execution_count": 104,
      "metadata": {
        "colab": {
          "base_uri": "https://localhost:8080/",
          "height": 265
        },
        "id": "70vwP1Ip63Fb",
        "outputId": "da20ec88-4cc8-4a27-8786-cd06c7b657ea"
      },
      "outputs": [
        {
          "output_type": "display_data",
          "data": {
            "text/plain": [
              "<Figure size 432x288 with 1 Axes>"
            ],
            "image/png": "[encoded data removed]"
          },
          "metadata": {
            "needs_background": "light"
          }
        }
      ],
      "source": [
        "plt.scatter(x,y,alpha=0.5)\n",
        "plt.plot(x,coeff_ols[0]+coeff_ols[1]*x,'r')\n",
        "plt.show()"
      ]
    },
    {
      "cell_type": "markdown",
      "metadata": {
        "id": "A277vzjI63Fb"
      },
      "source": [
        "**Question 2:** Implement the four steps above to compute the solution to the *weighted least squares (WLS)* problem. "
      ]
    },
    {
      "cell_type": "code",
      "execution_count": 105,
      "metadata": {
        "id": "f_Qw3BuM63Fc"
      },
      "outputs": [],
      "source": [
        "def wls_by_chol(A, y, w):\n",
        "    W = np.diag(w)\n",
        "    C = A.T @ W @ A #(Step I)\n",
        "    M = A.T @ W @ y #(Step II)\n",
        "    L = mmids_cholesky(A.T @ W @ A)\n",
        "    z = mmids_forwardsubs(L, A.T @ W @ y) #(Step III)\n",
        "    return mmids_backsubs(L.T, z) #EDIT: Use mmids_backsubs to return the coefficients (Step IV)"
      ]
    },
    {
      "cell_type": "markdown",
      "metadata": {
        "id": "raDQuJAs63Fc"
      },
      "source": [
        "**Question 3:** It can be shown that a good choice for the weights is \"one over the variance of the noise\". Here that would be one over the square of the `std` value corresponding to each sample. Set the weights, compute the WLS solution using `wls_by_chol`, and plot both the OLS and WLS lines."
      ]
    },
    {
      "cell_type": "code",
      "execution_count": 106,
      "metadata": {
        "colab": {
          "base_uri": "https://localhost:8080/"
        },
        "id": "F0vCcl0B63Fd",
        "outputId": "c0a2c1ae-548d-441e-d461-2be47c7214bb"
      },
      "outputs": [
        {
          "output_type": "stream",
          "name": "stdout",
          "text": [
            "[ 9.03404227 -1.73862357]\n"
          ]
        }
      ],
      "source": [
        "w = [1/(std[i]**2) for i in range(len(std))] #EDIT: Set the weights from the vector `std` defined in the simulation\n",
        "coeff_wls = wls_by_chol(A, y, w) #EDIT: Use wls_by_chol to compute the WLS coefficients\n",
        "print(coeff_wls)"
      ]
    },
    {
      "cell_type": "code",
      "execution_count": 107,
      "metadata": {
        "colab": {
          "base_uri": "https://localhost:8080/",
          "height": 269
        },
        "id": "NmBgV23N63Fd",
        "outputId": "11a7483d-1e5b-49cd-beb1-ca36425fc708"
      },
      "outputs": [
        {
          "output_type": "display_data",
          "data": {
            "text/plain": [
              "<Figure size 432x288 with 1 Axes>"
            ],
            "image/png": "[encoded data removed]"
          },
          "metadata": {
            "needs_background": "light"
          }
        }
      ],
      "source": [
        "plt.scatter(x,y,alpha=0.5)\n",
        "#EDIT: Plot the OLS line (in red)\n",
        "#EDIT: Plot the WLS line (in green)\n",
        "plt.plot(x,coeff_ols[0]+coeff_ols[1]*x,'r')\n",
        "plt.plot(x,coeff_wls[0]+coeff_wls[1]*x,'g')\n",
        "\n",
        "plt.xlim((3,5))\n",
        "plt.ylim((-5,10))\n",
        "plt.show()"
      ]
    },
    {
      "cell_type": "markdown",
      "metadata": {
        "id": "A2RxO1Fu63Fd"
      },
      "source": [
        "**Part B: Estimating the weights** We will illustrate how one might estimate the weights using additional information on a dataset from [Cosma Shalizi](http://www.stat.cmu.edu/~cshalizi/). Quoting from him: \n",
        "\n",
        "\"The data file has information on 729 communities. The variable we want to predict is economic mobility; the rest are predictor variables or\n",
        "covariates.\n",
        "\n",
        "1. Mobility: The probability that a child born in 1980–1982 into the lowest\n",
        "quintile (20%) of household income will be in the top quintile at age 30. Individuals are assigned to the community they grew up in, not the one\n",
        "they were in as adults.\n",
        "\n",
        "2. Commute: Fraction of workers with a commute of less than 15 minutes.\n",
        "\n",
        "3. Longitude: Geographic coordinate for the center of the community\n",
        "\n",
        "4. Latitude: Ditto\n",
        "\n",
        "5. Name: the name of principal city or town.\n",
        "\n",
        "6. State: the state of the principal city or town of the community\n",
        "\n",
        "An important hypothesis for the researchers who gathered this data is that\n",
        "short commuting times lead to higher rates of social mobility. In this assignment,\n",
        "we will not be concerned with their explanation of how this might work, but\n",
        "just with whether there really is such a connection.\"\n",
        "\n",
        "Specifically, our goal in this part is to use both OLS and WLS to fit a line relating `Commute` (the predictor) and `Mobility` (the response). The weights in the WLS approach will be derived from the `Population` values."
      ]
    },
    {
      "cell_type": "markdown",
      "metadata": {
        "id": "5G5ZSiah63Fe"
      },
      "source": [
        "**Question 4:** First, load the dataset `hwk5-f22-data.csv` into a dataframe, print the first 5 rows and compute the number of rows."
      ]
    },
    {
      "cell_type": "code",
      "execution_count": 108,
      "metadata": {
        "id": "LR7BbSYV63Fe",
        "colab": {
          "base_uri": "https://localhost:8080/",
          "height": 204
        },
        "outputId": "3d95f2c9-be02-43bf-88d0-5d0bfdbb2f86"
      },
      "outputs": [
        {
          "output_type": "execute_result",
          "data": {
            "text/plain": [
              "             Name  Mobility State  Population  Commute  Longitude   Latitude\n",
              "0    Johnson City  0.062199    TN      576081    0.325 -82.436386  36.470371\n",
              "1      Morristown  0.053652    TN      227816    0.276 -83.407249  36.096539\n",
              "2  Middlesborough  0.072635    TN       66708    0.359 -83.535332  36.551540\n",
              "3       Knoxville  0.056281    TN      727600    0.269 -84.242790  35.952259\n",
              "4   Winston-Salem  0.044801    NC      493180    0.292 -80.505333  36.081276"
            ],
            "text/html": [
              "\n",
              "  <div id=\"df-f5de4120-ba8c-4ec8-ad7d-c6fdec08d77e\">\n",
              "    <div class=\"colab-df-container\">\n",
              "      <div>\n",
              "<style scoped>\n",
              "    .dataframe tbody tr th:only-of-type {\n",
              "        vertical-align: middle;\n",
              "    }\n",
              "\n",
              "    .dataframe tbody tr th {\n",
              "        vertical-align: top;\n",
              "    }\n",
              "\n",
              "    .dataframe thead th {\n",
              "        text-align: right;\n",
              "    }\n",
              "</style>\n",
              "<table border=\"1\" class=\"dataframe\">\n",
              "  <thead>\n",
              "    <tr style=\"text-align: right;\">\n",
              "      <th></th>\n",
              "      <th>Name</th>\n",
              "      <th>Mobility</th>\n",
              "      <th>State</th>\n",
              "      <th>Population</th>\n",
              "      <th>Commute</th>\n",
              "      <th>Longitude</th>\n",
              "      <th>Latitude</th>\n",
              "    </tr>\n",
              "  </thead>\n",
              "  <tbody>\n",
              "    <tr>\n",
              "      <th>0</th>\n",
              "      <td>Johnson City</td>\n",
              "      <td>0.062199</td>\n",
              "      <td>TN</td>\n",
              "      <td>576081</td>\n",
              "      <td>0.325</td>\n",
              "      <td>-82.436386</td>\n",
              "      <td>36.470371</td>\n",
              "    </tr>\n",
              "    <tr>\n",
              "      <th>1</th>\n",
              "      <td>Morristown</td>\n",
              "      <td>0.053652</td>\n",
              "      <td>TN</td>\n",
              "      <td>227816</td>\n",
              "      <td>0.276</td>\n",
              "      <td>-83.407249</td>\n",
              "      <td>36.096539</td>\n",
              "    </tr>\n",
              "    <tr>\n",
              "      <th>2</th>\n",
              "      <td>Middlesborough</td>\n",
              "      <td>0.072635</td>\n",
              "      <td>TN</td>\n",
              "      <td>66708</td>\n",
              "      <td>0.359</td>\n",
              "      <td>-83.535332</td>\n",
              "      <td>36.551540</td>\n",
              "    </tr>\n",
              "    <tr>\n",
              "      <th>3</th>\n",
              "      <td>Knoxville</td>\n",
              "      <td>0.056281</td>\n",
              "      <td>TN</td>\n",
              "      <td>727600</td>\n",
              "      <td>0.269</td>\n",
              "      <td>-84.242790</td>\n",
              "      <td>35.952259</td>\n",
              "    </tr>\n",
              "    <tr>\n",
              "      <th>4</th>\n",
              "      <td>Winston-Salem</td>\n",
              "      <td>0.044801</td>\n",
              "      <td>NC</td>\n",
              "      <td>493180</td>\n",
              "      <td>0.292</td>\n",
              "      <td>-80.505333</td>\n",
              "      <td>36.081276</td>\n",
              "    </tr>\n",
              "  </tbody>\n",
              "</table>\n",
              "</div>\n",
              "      <button class=\"colab-df-convert\" onclick=\"convertToInteractive('df-f5de4120-ba8c-4ec8-ad7d-c6fdec08d77e')\"\n",
              "              title=\"Convert this dataframe to an interactive table.\"\n",
              "              style=\"display:none;\">\n",
              "        \n",
              "  <svg xmlns=\"http://www.w3.org/2000/svg\" height=\"24px\"viewBox=\"0 0 24 24\"\n",
              "       width=\"24px\">\n",
              "    <path d=\"M0 0h24v24H0V0z\" fill=\"none\"/>\n",
              "    <path d=\"M18.56 5.44l.94 2.06.94-2.06 2.06-.94-2.06-.94-.94-2.06-.94 2.06-2.06.94zm-11 1L8.5 8.5l.94-2.06 2.06-.94-2.06-.94L8.5 2.5l-.94 2.06-2.06.94zm10 10l.94 2.06.94-2.06 2.06-.94-2.06-.94-.94-2.06-.94 2.06-2.06.94z\"/><path d=\"M17.41 7.96l-1.37-1.37c-.4-.4-.92-.59-1.43-.59-.52 0-1.04.2-1.43.59L10.3 9.45l-7.72 7.72c-.78.78-.78 2.05 0 2.83L4 21.41c.39.39.9.59 1.41.59.51 0 1.02-.2 1.41-.59l7.78-7.78 2.81-2.81c.8-.78.8-2.07 0-2.86zM5.41 20L4 18.59l7.72-7.72 1.47 1.35L5.41 20z\"/>\n",
              "  </svg>\n",
              "      </button>\n",
              "      \n",
              "  <style>\n",
              "    .colab-df-container {\n",
              "      display:flex;\n",
              "      flex-wrap:wrap;\n",
              "      gap: 12px;\n",
              "    }\n",
              "\n",
              "    .colab-df-convert {\n",
              "      background-color: #E8F0FE;\n",
              "      border: none;\n",
              "      border-radius: 50%;\n",
              "      cursor: pointer;\n",
              "      display: none;\n",
              "      fill: #1967D2;\n",
              "      height: 32px;\n",
              "      padding: 0 0 0 0;\n",
              "      width: 32px;\n",
              "    }\n",
              "\n",
              "    .colab-df-convert:hover {\n",
              "      background-color: #E2EBFA;\n",
              "      box-shadow: 0px 1px 2px rgba(60, 64, 67, 0.3), 0px 1px 3px 1px rgba(60, 64, 67, 0.15);\n",
              "      fill: #174EA6;\n",
              "    }\n",
              "\n",
              "    [theme=dark] .colab-df-convert {\n",
              "      background-color: #3B4455;\n",
              "      fill: #D2E3FC;\n",
              "    }\n",
              "\n",
              "    [theme=dark] .colab-df-convert:hover {\n",
              "      background-color: #434B5C;\n",
              "      box-shadow: 0px 1px 3px 1px rgba(0, 0, 0, 0.15);\n",
              "      filter: drop-shadow(0px 1px 2px rgba(0, 0, 0, 0.3));\n",
              "      fill: #FFFFFF;\n",
              "    }\n",
              "  </style>\n",
              "\n",
              "      <script>\n",
              "        const buttonEl =\n",
              "          document.querySelector('#df-f5de4120-ba8c-4ec8-ad7d-c6fdec08d77e button.colab-df-convert');\n",
              "        buttonEl.style.display =\n",
              "          google.colab.kernel.accessAllowed ? 'block' : 'none';\n",
              "\n",
              "        async function convertToInteractive(key) {\n",
              "          const element = document.querySelector('#df-f5de4120-ba8c-4ec8-ad7d-c6fdec08d77e');\n",
              "          const dataTable =\n",
              "            await google.colab.kernel.invokeFunction('convertToInteractive',\n",
              "                                                     [key], {});\n",
              "          if (!dataTable) return;\n",
              "\n",
              "          const docLinkHtml = 'Like what you see? Visit the ' +\n",
              "            '<a target=\"_blank\" href=https://colab.research.google.com/notebooks/data_table.ipynb>data table notebook</a>'\n",
              "            + ' to learn more about interactive tables.';\n",
              "          element.innerHTML = '';\n",
              "          dataTable['output_type'] = 'display_data';\n",
              "          await google.colab.output.renderOutput(dataTable, element);\n",
              "          const docLink = document.createElement('div');\n",
              "          docLink.innerHTML = docLinkHtml;\n",
              "          element.appendChild(docLink);\n",
              "        }\n",
              "      </script>\n",
              "    </div>\n",
              "  </div>\n",
              "  "
            ]
          },
          "metadata": {},
          "execution_count": 108
        }
      ],
      "source": [
        "df = pd.read_csv('hwk5-f22-data (2).csv') #EDIT: Load `hwk5-f22-data.csv` into dataframe\n",
        "#EDIT: Print the first five rows of df\n",
        "df.head()"
      ]
    },
    {
      "cell_type": "code",
      "execution_count": 109,
      "metadata": {
        "id": "t1MBSLaH63Ff",
        "colab": {
          "base_uri": "https://localhost:8080/"
        },
        "outputId": "f9141757-274a-4d0a-eae7-d8b187bebdfe"
      },
      "outputs": [
        {
          "output_type": "stream",
          "name": "stdout",
          "text": [
            "729\n"
          ]
        }
      ],
      "source": [
        "n_cities = len(df) #EDIT: Compute the number of rows\n",
        "print(n_cities)"
      ]
    },
    {
      "cell_type": "markdown",
      "metadata": {
        "id": "BobUiuq-63Ff"
      },
      "source": [
        "**Question 5:** Extract the columns `Mobility`, `Commute` and `Population` into vectors, i.e., 1d arrays. Plot histograms of `mobility` and `commute` and of the logarithm of `population`. Taking a logarithm of the population is warranted here because it is spread over many orders of magnitude."
      ]
    },
    {
      "cell_type": "code",
      "execution_count": 110,
      "metadata": {
        "id": "WHBk_24B63Fg"
      },
      "outputs": [],
      "source": [
        "mobility = df['Mobility'].to_numpy() #EDIT: Convert column `Mobility` into 1d array\n",
        "commute = df['Commute'].to_numpy() #EDIT: Convert column `Commute` into 1d array\n",
        "population = df['Population'].to_numpy() #EDIT: Convert column `Population` into 1d array"
      ]
    },
    {
      "cell_type": "code",
      "execution_count": 111,
      "metadata": {
        "id": "CIxPLD9063Fg",
        "colab": {
          "base_uri": "https://localhost:8080/",
          "height": 281
        },
        "outputId": "c8fe99b8-d0a3-45be-de94-51bc37d4bb4d"
      },
      "outputs": [
        {
          "output_type": "display_data",
          "data": {
            "text/plain": [
              "<Figure size 432x288 with 1 Axes>"
            ],
            "image/png": "[encoded data removed]"
          },
          "metadata": {
            "needs_background": "light"
          }
        }
      ],
      "source": [
        "#EDIT: Plot histogram of `mobility`\n",
        "plt.hist(mobility)\n",
        "plt.title(\"Mobility\")\n",
        "plt.show()"
      ]
    },
    {
      "cell_type": "code",
      "execution_count": 112,
      "metadata": {
        "id": "LCABvbfA63Fg",
        "colab": {
          "base_uri": "https://localhost:8080/",
          "height": 281
        },
        "outputId": "d9ee64af-0f9b-4a36-bf25-4fbcf72302bc"
      },
      "outputs": [
        {
          "output_type": "display_data",
          "data": {
            "text/plain": [
              "<Figure size 432x288 with 1 Axes>"
            ],
            "image/png": "[encoded data removed]"
          },
          "metadata": {
            "needs_background": "light"
          }
        }
      ],
      "source": [
        "#EDIT: Plot histogram of `commute`\n",
        "plt.hist(commute)\n",
        "plt.title(\"Commute\")\n",
        "plt.show()"
      ]
    },
    {
      "cell_type": "code",
      "execution_count": 113,
      "metadata": {
        "id": "CdK3PDUD63Fg",
        "colab": {
          "base_uri": "https://localhost:8080/",
          "height": 281
        },
        "outputId": "5cd4f444-6ec1-49bc-f5ad-acc9e27b6b4b"
      },
      "outputs": [
        {
          "output_type": "display_data",
          "data": {
            "text/plain": [
              "<Figure size 432x288 with 1 Axes>"
            ],
            "image/png": "[encoded data removed]"
          },
          "metadata": {
            "needs_background": "light"
          }
        }
      ],
      "source": [
        "#EDIT: Plot histogram of the log of `population`\n",
        "plt.hist(np.log(population))\n",
        "plt.title(\"Population (log)\")\n",
        "plt.show()"
      ]
    },
    {
      "cell_type": "markdown",
      "metadata": {
        "id": "iTOQXz1y63Fh"
      },
      "source": [
        "**Question 6:** Use OLS to fit a line relating `commute` (as predictor) and `mobility` (as response). First construct the matrix $A$ as in $(*)$ (here `data_matrix`; do not forget the column of $1$'s for the constant term), then use `ols_by_chol` to compute the coefficients. Finally plot the OLS line."
      ]
    },
    {
      "cell_type": "code",
      "execution_count": 114,
      "metadata": {
        "id": "KkUC-6Wf63Fh"
      },
      "outputs": [],
      "source": [
        "#EDIT: Compute A matrix as in (*)\n",
        "ones_col = np.ones((len(commute), 1))\n",
        "data_matrix = np.hstack([ones_col, commute.reshape(len(commute),1)])"
      ]
    },
    {
      "cell_type": "code",
      "execution_count": 116,
      "metadata": {
        "id": "DjueqHGq63Fh",
        "colab": {
          "base_uri": "https://localhost:8080/"
        },
        "outputId": "c578a09e-1bdb-4a81-806a-8236a9d4fb6a"
      },
      "outputs": [
        {
          "output_type": "stream",
          "name": "stdout",
          "text": [
            "[-1.97258903e-04  2.21869529e-01]\n"
          ]
        }
      ],
      "source": [
        "coeff_ols = ols_by_chol(data_matrix, mobility)\n",
        "#EDIT: Use ols_by_chol to solve for OLS coefficients\n",
        "print(coeff_ols)"
      ]
    },
    {
      "cell_type": "code",
      "execution_count": 117,
      "metadata": {
        "id": "vKzlLACA63Fh",
        "colab": {
          "base_uri": "https://localhost:8080/",
          "height": 265
        },
        "outputId": "ddddcc2d-e75e-4ee1-b4ca-94ba0d0ea697"
      },
      "outputs": [
        {
          "output_type": "display_data",
          "data": {
            "text/plain": [
              "<Figure size 432x288 with 1 Axes>"
            ],
            "image/png": "[encoded data removed]"
          },
          "metadata": {
            "needs_background": "light"
          }
        }
      ],
      "source": [
        "plt.scatter(commute,mobility,alpha=0.5)\n",
        "\n",
        "x = np.linspace(np.min(commute),np.max(commute),num=100)\n",
        "#EDIT: Plot the OLS line (in red)\n",
        "plt.plot(commute,coeff_ols[0]+coeff_ols[1]*commute,'r')\n",
        "\n",
        "\n",
        "plt.show()"
      ]
    },
    {
      "cell_type": "markdown",
      "metadata": {
        "id": "-JZxiK8c63Fi"
      },
      "source": [
        "**Question 7:** Display a scatterplot of the logarithm of the `population` (on $x$ axis) and the `mobility` (on $y$ axis). Notice that the spread along the $y$ axis increases as the $x$-value gets smaller. This is evidence that smaller populations lead to more uncertain estimates of economic mobility."
      ]
    },
    {
      "cell_type": "code",
      "execution_count": 118,
      "metadata": {
        "id": "wSLO4-Ym63Fi",
        "colab": {
          "base_uri": "https://localhost:8080/",
          "height": 265
        },
        "outputId": "2cc1d1b1-603d-4c6a-ac70-ee7b3a92a164"
      },
      "outputs": [
        {
          "output_type": "display_data",
          "data": {
            "text/plain": [
              "<Figure size 432x288 with 1 Axes>"
            ],
            "image/png": "[encoded data removed]"
          },
          "metadata": {
            "needs_background": "light"
          }
        }
      ],
      "source": [
        "#EDIT: Display scatter of log of population and mobility\n",
        "plt.scatter(np.log(population), mobility)\n",
        "plt.show()"
      ]
    },
    {
      "cell_type": "markdown",
      "metadata": {
        "id": "5JkXW-5t63Fj"
      },
      "source": [
        "**Question 8:** We will use again the \"one over the variance of the noise\" principle as the weight in WLS. Without going into the details: (1) we assume that the estimate of economic mobility follows a normalized binomial distribution with a number of trials proportional to the population size; (2) it can be shown that, under that model, the variance of the mobility can be approximated by $\\frac{(1-m_i)m_i}{n_i}$, where $m_i$ and $n_i$ are the economic mobility and population size of community $i$. Compute the weights, solve the WLS problem and plot the OLS and WLS lines."
      ]
    },
    {
      "cell_type": "code",
      "execution_count": 122,
      "metadata": {
        "id": "H_c3NaR463Fj"
      },
      "outputs": [],
      "source": [
        "var = [(1-mobility[i])*mobility[i]/population[i] for i in range(len(mobility))] #EDIT: Compute the approximation to the variance (1-m_i)*m_i/n_i\n",
        "weights = [1/(var[i]) for i in range(len(var))]\n",
        "#EDIT: Set the weigths using the \"one over the variance\" principle"
      ]
    },
    {
      "cell_type": "code",
      "execution_count": 128,
      "metadata": {
        "id": "uJJVrAPD63Fk",
        "colab": {
          "base_uri": "https://localhost:8080/"
        },
        "outputId": "2f8152e3-236e-43eb-d905-13dc5ab0acbd"
      },
      "outputs": [
        {
          "output_type": "stream",
          "name": "stdout",
          "text": [
            "[0.06405243 0.03106309]\n"
          ]
        }
      ],
      "source": [
        "coeff_wls = wls_by_chol(data_matrix, mobility, weights) #EDIT: Use wls_by_chol to compute WLS coefficients\n",
        "print(coeff_wls)"
      ]
    },
    {
      "cell_type": "code",
      "execution_count": 129,
      "metadata": {
        "id": "Xldv0Iao63Fk",
        "colab": {
          "base_uri": "https://localhost:8080/",
          "height": 265
        },
        "outputId": "37a50557-9831-4fa0-ecf4-ea5a177f9898"
      },
      "outputs": [
        {
          "output_type": "display_data",
          "data": {
            "text/plain": [
              "<Figure size 432x288 with 1 Axes>"
            ],
            "image/png": "[encoded data removed]"
          },
          "metadata": {
            "needs_background": "light"
          }
        }
      ],
      "source": [
        "plt.scatter(commute,mobility,alpha=0.5)\n",
        "\n",
        "x = np.linspace(np.min(commute),np.max(commute),num=100)\n",
        "#EDIT: Plot OLS line (in red)\n",
        "#EDIT: Plot WLS line (in green)\n",
        "plt.plot(commute,coeff_ols[0]+coeff_ols[1]*commute,'r')\n",
        "plt.plot(commute,coeff_wls[0]+coeff_wls[1]*commute,'g')\n",
        "\n",
        "plt.show()"
      ]
    },
    {
      "cell_type": "markdown",
      "metadata": {
        "id": "kEpp3wIF63Fk"
      },
      "source": [
        "**Final remark:** While the OLS uncovers a linear relationship between `commute` and `mobility`, correcting for the variance of the estimated mobility using WLS shows a much weaker relationship (if any at all)."
      ]
    }
  ],
  "metadata": {
    "kernelspec": {
      "display_name": "Python 3",
      "language": "python",
      "name": "python3"
    },
    "language_info": {
      "codemirror_mode": {
        "name": "ipython",
        "version": 3
      },
      "file_extension": ".py",
      "mimetype": "text/x-python",
      "name": "python",
      "nbconvert_exporter": "python",
      "pygments_lexer": "ipython3",
      "version": "3.8.8"
    },
    "colab": {
      "provenance": [],
      "collapsed_sections": []
    }
  },
  "nbformat": 4,
  "nbformat_minor": 0
}